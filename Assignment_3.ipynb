{
 "cells": [
  {
   "cell_type": "markdown",
   "id": "7b05bf63",
   "metadata": {},
   "source": [
    "# 1. Why are functions advantageous to have in your programs?        "
   ]
  },
  {
   "cell_type": "markdown",
   "id": "229b6bdf",
   "metadata": {},
   "source": [
    "solution:-\n",
    "\n",
    "    Reusability: By defining a function, we  can  use   that functionality multilple times without having to rewrite the       same code\n",
    "     \n",
    "    Modularity: Functions enable you to break down a large program into smaller one.\n",
    "    Each function can focus on a specific task,making our code more organise and easy to understand\n",
    "    \n",
    "    Abstraction: We can hide implementation details of a certain functionality \n",
    "        Behind a function name and its parameters.User have to provide input and what output is expected\n",
    "        is without corcerning themself with the internal implementation.\n",
    "    Code Readability: Function enhence the readability of your code by promoting \n",
    "        Structured and organized approach "
   ]
  },
  {
   "cell_type": "markdown",
   "id": "81187bb2",
   "metadata": {},
   "source": [
    "# 2. When does the code in a function run: when it&#39;s specified or when it&#39;s called?"
   ]
  },
  {
   "cell_type": "markdown",
   "id": "c3fa8af9",
   "metadata": {},
   "source": [
    "\n",
    "\n",
    "SOlution:-\n",
    "\n",
    "\n",
    "1.first we have to define a function by specifying its name, input parameters (if any), \n",
    "\n",
    "  and the code block that should be executed when the function is called.\n",
    "    \n",
    "Example-def my_function():\n",
    "\n",
    "    # Code block inside the function\n",
    "    \n",
    "    print(\"shudanshu\")    \n",
    "\n",
    "2.To execute the code within the function, we need to call it by its name, followed by parentheses.\n",
    "\n",
    "Example-\n",
    "\n",
    "      my_function()  # This line calls the function and executes the code inside it."
   ]
  },
  {
   "cell_type": "markdown",
   "id": "53ba2b57",
   "metadata": {},
   "source": [
    "# 3. What statement creates a function?"
   ]
  },
  {
   "cell_type": "markdown",
   "id": "c18cff51",
   "metadata": {},
   "source": [
    "In Python, a function is created using the def statement. Here's the basic syntax for defining a function in Python:"
   ]
  },
  {
   "cell_type": "code",
   "execution_count": 1,
   "id": "10ccea1b",
   "metadata": {},
   "outputs": [],
   "source": [
    "def greet(name):\n",
    "    print(f\" Hello,{name}!\")"
   ]
  },
  {
   "cell_type": "markdown",
   "id": "487d669f",
   "metadata": {},
   "source": [
    "greet(\"saurav\")  The \" def\" statement defines the function 'greet'\n",
    "\n",
    "\n",
    "In the above, the 'def' statement  is used to create a function named 'greet'.This function takes a \n",
    "'name' as a parmeter and prints a greeting message when called"
   ]
  },
  {
   "cell_type": "markdown",
   "id": "7d0eba34",
   "metadata": {},
   "source": [
    "# 4. What is the difference between a function and a function call?"
   ]
  },
  {
   "cell_type": "markdown",
   "id": "606f08f3",
   "metadata": {},
   "source": [
    "A function and a function call are two related but distinct concepts in programming:\n",
    "\n",
    "Function:\n",
    "\n",
    "A function is a reusable block of code that performs a specific task or a set of tasks.\n",
    "\n",
    "\n",
    "A function call is the act of invoking or running a function, which triggers the execution of the code within the function.\n",
    "When you call a function, you use the function's name, provide any required arguments or parameters, and the function's code is executed with those provided values.\n",
    "\n",
    "Here's an example to illustrate the difference:"
   ]
  },
  {
   "cell_type": "code",
   "execution_count": 5,
   "id": "59086913",
   "metadata": {},
   "outputs": [],
   "source": [
    "# Function defination\n",
    "def add(a,b):\n",
    "    return a+b\n",
    "# Function call\n",
    "result= add(3,4)"
   ]
  },
  {
   "cell_type": "markdown",
   "id": "87c4667a",
   "metadata": {},
   "source": [
    "# 5. How many global scopes are there in a Python program? How many local scopes?"
   ]
  },
  {
   "cell_type": "markdown",
   "id": "337989d8",
   "metadata": {},
   "source": [
    "In a Python program, there is one global scope and multiple local scopes.\n",
    "\n",
    "Global Scope:\n",
    "\n",
    "There is only one global scope in a Python program. This scope includes variables and objects that are defined at the top level of the program, outside of any function or class.\n",
    "Global variables can be accessed and modified from anywhere in the program, including within functions.\n",
    "Local Scopes:\n",
    "\n",
    "Local scopes are created within functions or methods. Each function or method has its own local scope, and variables defined within that function or method are local to it.\n",
    "Local variables are only accessible within the function or method where they are defined. They are not visible outside of that specific scope."
   ]
  },
  {
   "cell_type": "code",
   "execution_count": 10,
   "id": "4add6cfc",
   "metadata": {},
   "outputs": [],
   "source": [
    "global_variable=\"I'm in the global scope\"\n",
    "\n",
    "def my_function():\n",
    "    local_variable=\"I'm in a local scope\"\n",
    "    print(global_variable)  # Accessing the global variable\n",
    "    print(local_variable)   # Accessing the local varible\n",
    "    "
   ]
  },
  {
   "cell_type": "code",
   "execution_count": 13,
   "id": "5bae88ac",
   "metadata": {},
   "outputs": [
    {
     "name": "stdout",
     "output_type": "stream",
     "text": [
      "I'm in the global scope\n"
     ]
    }
   ],
   "source": [
    "print(global_variable) # Accessing the global variable from outside the function"
   ]
  },
  {
   "cell_type": "code",
   "execution_count": 14,
   "id": "1202a4c6",
   "metadata": {},
   "outputs": [
    {
     "name": "stdout",
     "output_type": "stream",
     "text": [
      "I'm in the global scope\n",
      "I'm in a local scope\n"
     ]
    }
   ],
   "source": [
    "my_function()"
   ]
  },
  {
   "cell_type": "code",
   "execution_count": null,
   "id": "a5e55680",
   "metadata": {},
   "outputs": [],
   "source": [
    "print(local_variable)  # This would result in an error because 'local_variable' is not accessible here"
   ]
  },
  {
   "cell_type": "markdown",
   "id": "dd1d72b1",
   "metadata": {},
   "source": [
    "In this example ,' global_variable' si defined in the global scope and can be accessed both inside and outside the function .\n",
    "local_variable is defined with the \" mu_function\", making it a local variable that is only acceessible with tjhe function"
   ]
  },
  {
   "cell_type": "markdown",
   "id": "8855f07b",
   "metadata": {},
   "source": [
    "# 6.What happens to variables in a local scope when the function call returns?"
   ]
  },
  {
   "cell_type": "markdown",
   "id": "af1c4d95",
   "metadata": {},
   "source": [
    "When a function call returns in Python, the variables that were defined within the local scope of that function are typically destroyed, and their values are no longer accessible. This process is known as \"variable scope\" and follows the rules of Python's scoping.\n",
    "\n",
    "Here's what happens when a function call returns:\n",
    "\n",
    "Local Variables are Destroyed: All local variables created within the function's local scope are destroyed, and their memory is released. This means that these variables are no longer accessible after the function call has returned.\n",
    "\n",
    "Return Value: If the function has a return statement, the value specified by that return statement is passed back to the caller. This return value can be assigned to a variable or used in further operations.\n",
    "\n",
    "Here's an example to illustrate this:"
   ]
  },
  {
   "cell_type": "code",
   "execution_count": 16,
   "id": "d13f1ba6",
   "metadata": {},
   "outputs": [],
   "source": [
    "def my_function():\n",
    "    local_variable=\" I'm in a local scope\"\n",
    "    return  42"
   ]
  },
  {
   "cell_type": "code",
   "execution_count": 20,
   "id": "74844a64",
   "metadata": {},
   "outputs": [],
   "source": [
    "result=my_function() # Call the function and store its return value in 'result'"
   ]
  },
  {
   "cell_type": "code",
   "execution_count": 19,
   "id": "792a1be5",
   "metadata": {},
   "outputs": [
    {
     "data": {
      "text/plain": [
       "42"
      ]
     },
     "execution_count": 19,
     "metadata": {},
     "output_type": "execute_result"
    }
   ],
   "source": [
    "result"
   ]
  },
  {
   "cell_type": "markdown",
   "id": "9881ee28",
   "metadata": {},
   "source": [
    "In the example above, local_variable exists only within the scope of my_function. Once the function call returns, that local variable is destroyed. The value returned by the function (42 in this case) is stored in the variable result and can be used outside the function."
   ]
  },
  {
   "cell_type": "markdown",
   "id": "d7b309de",
   "metadata": {},
   "source": [
    "# 7. What is the concept of a return value? Is it possible to have a return value in an expression?"
   ]
  },
  {
   "cell_type": "markdown",
   "id": "2b2b1307",
   "metadata": {},
   "source": [
    "The concept of a return value in programming refers to the value that a function provides as output when it is called and executed. When a function is designed to produce a result, it often uses a return statement to send that result back to the caller. The return value is the data or value that is \"returned\" by the function, and it can be used in further operations or assignments.\n",
    "\n",
    "Here's the basic syntax of a return statement in Python:"
   ]
  },
  {
   "cell_type": "code",
   "execution_count": 21,
   "id": "ab45c1f3",
   "metadata": {},
   "outputs": [],
   "source": [
    "def my_function():\n",
    "    return some_value"
   ]
  },
  {
   "cell_type": "markdown",
   "id": "6ac74a2c",
   "metadata": {},
   "source": [
    "In the example above, some_value is the return value of the function. When the function is called, this value is passed back to the caller.\n",
    "\n",
    "Regarding your second question, yes, it is possible to use a return value in an expression. You can directly use the return value in calculations, assignments, or as an argument for other functions. For example:\n",
    "\n",
    "python"
   ]
  },
  {
   "cell_type": "code",
   "execution_count": 22,
   "id": "af452acf",
   "metadata": {},
   "outputs": [],
   "source": [
    "def add(a,b):\n",
    "    return a+b\n",
    "result=add(3,4) # The result value of add(3,4) is 7\n",
    "total=result*2  # using the return value in an expression"
   ]
  },
  {
   "cell_type": "code",
   "execution_count": 23,
   "id": "675ddf56",
   "metadata": {},
   "outputs": [
    {
     "name": "stdout",
     "output_type": "stream",
     "text": [
      "14\n"
     ]
    }
   ],
   "source": [
    "print(total)"
   ]
  },
  {
   "cell_type": "markdown",
   "id": "8a082a83",
   "metadata": {},
   "source": [
    "In this example, the return value of the add function is used in the expression result * 2, and the result is stored in the variable total. This demonstrates how return values can be incorporated into expressions to perform further computations or assignments.\n"
   ]
  },
  {
   "cell_type": "markdown",
   "id": "cd265828",
   "metadata": {},
   "source": [
    "# 8. If a function does not have a return statement, what is the return value of a call to that function?"
   ]
  },
  {
   "cell_type": "markdown",
   "id": "4cba4a36",
   "metadata": {},
   "source": [
    "In Python, if a function does not have a return statement, the function implicitly returns None. Here's an example:"
   ]
  },
  {
   "cell_type": "code",
   "execution_count": 12,
   "id": "c29380aa",
   "metadata": {},
   "outputs": [
    {
     "name": "stdout",
     "output_type": "stream",
     "text": [
      "None\n"
     ]
    }
   ],
   "source": [
    "def my_function(a,b):\n",
    "    c=a+b\n",
    "c=my_function(3,5)    \n",
    "print(c)"
   ]
  },
  {
   "cell_type": "markdown",
   "id": "5b9fface",
   "metadata": {},
   "source": [
    "# 9.How do you make a function variable refer to the global variable?"
   ]
  },
  {
   "cell_type": "markdown",
   "id": "11fb9f4d",
   "metadata": {},
   "source": [
    "In Python, if you want to make a function variable refer to a global variable, you can use the global keyword. The global keyword allows you to declare that a variable within a function should refer to the global variable of the same name rather than creating a new local variable. Here's how you can use it:"
   ]
  },
  {
   "cell_type": "code",
   "execution_count": 17,
   "id": "94ba36f1",
   "metadata": {},
   "outputs": [],
   "source": [
    "global_variable=10\n",
    "\n",
    "def my_function():\n",
    "    global global_variable # declare that I want to use the global variable\n",
    "    global_variable=20   # Modify the global variable\n",
    "    "
   ]
  },
  {
   "cell_type": "code",
   "execution_count": 18,
   "id": "842f1de4",
   "metadata": {},
   "outputs": [],
   "source": [
    "my_function()"
   ]
  },
  {
   "cell_type": "code",
   "execution_count": 19,
   "id": "6b7dac24",
   "metadata": {},
   "outputs": [
    {
     "name": "stdout",
     "output_type": "stream",
     "text": [
      "20\n"
     ]
    }
   ],
   "source": [
    "print(global_variable)"
   ]
  },
  {
   "cell_type": "markdown",
   "id": "198b016a",
   "metadata": {},
   "source": [
    "n this example, by using the global keyword within the my_function, we indicate that we want to work with the global variable global_variable. When we modify global_variable within the function, it changes the value of the global variable."
   ]
  },
  {
   "cell_type": "markdown",
   "id": "15bc3580",
   "metadata": {},
   "source": [
    "\n",
    "# 10. What is the data type of None?"
   ]
  },
  {
   "cell_type": "markdown",
   "id": "65b434ea",
   "metadata": {},
   "source": [
    "In Python, None is a special singleton object used to represent the absence of a value or a null value. It is often used to indicate that a variable or expression does not have a meaningful value. None is of a specific data type called \"NoneType.\" You can check the data type of None using the type() function:"
   ]
  },
  {
   "cell_type": "code",
   "execution_count": 21,
   "id": "6ddef46e",
   "metadata": {},
   "outputs": [
    {
     "name": "stdout",
     "output_type": "stream",
     "text": [
      "<class 'NoneType'>\n"
     ]
    }
   ],
   "source": [
    "x=None\n",
    "print(type(x)) # This will print <class 'NoneType'>"
   ]
  },
  {
   "cell_type": "markdown",
   "id": "388c5ec1",
   "metadata": {},
   "source": [
    "# 12. If you had a bacon() feature in a spam module, what would you call it after importing spam?"
   ]
  },
  {
   "cell_type": "markdown",
   "id": "f5cf177e",
   "metadata": {},
   "source": [
    "If you have a function named bacon() within a module named spam and you want to use that function after importing the spam module, you can call it using the following syntax:"
   ]
  },
  {
   "cell_type": "markdown",
   "id": "555beddb",
   "metadata": {},
   "source": [
    "import spam\n",
    "\n",
    "result=spam.bacon()\n",
    "\n",
    "\n",
    "\n",
    "In this code, we import the spam module, and then we call the bacon() function using the module name followed by a dot notation (spam.bacon()). This allows you to access and use the bacon() function from the spam module in your code. The result variable will store the return value of the bacon() function if it has one.\n"
   ]
  },
  {
   "cell_type": "markdown",
   "id": "595abd42",
   "metadata": {},
   "source": [
    "# 13. What can you do to save a programme from crashing if it encounters an error?"
   ]
  },
  {
   "cell_type": "markdown",
   "id": "3b3ae6bb",
   "metadata": {},
   "source": [
    "To prevent a program from crashing when it encounters an error, we can implement error handling techniques in your code. This allows you to gracefully handle exceptions or errors that might occur during program execution. Here are some common ways to achieve this in Python:"
   ]
  },
  {
   "cell_type": "markdown",
   "id": "5a589a35",
   "metadata": {},
   "source": [
    "Use Try-Except Blocks:\n",
    "\n",
    "Wrap the potentially problematic code in a try-except block. This allows you to catch exceptions and handle errors without crashing the program."
   ]
  },
  {
   "cell_type": "code",
   "execution_count": null,
   "id": "0ce0963a",
   "metadata": {},
   "outputs": [],
   "source": [
    "try:\n",
    "    #code that might raise an exception\n",
    "except Exception as e:\n",
    "    # Handle the exception here"
   ]
  },
  {
   "cell_type": "markdown",
   "id": "583e2382",
   "metadata": {},
   "source": [
    "# 14. What is the purpose of the try clause? What is the purpose of the except clause?"
   ]
  },
  {
   "cell_type": "markdown",
   "id": "a90a1d65",
   "metadata": {},
   "source": [
    "n programming, specifically in languages like Python, the try and except clauses are used for error handling and exception management. They serve distinct purposes:\n",
    "\n",
    "Try Clause:\n",
    "\n",
    "The purpose of the try clause is to enclose a block of code where you anticipate that an exception or error might occur. It defines a section of code that you want to monitor for exceptions. If an exception is raised within the try block, the program doesn't immediately terminate; instead, it transfers control to the associated except block."
   ]
  },
  {
   "cell_type": "code",
   "execution_count": null,
   "id": "8590d000",
   "metadata": {},
   "outputs": [],
   "source": [
    "try:\n",
    "    # code that might raise an exception\n",
    "except SomeException:\n",
    "    # code to handle the exception\n",
    "\n",
    "# Here, the code within the try block is where you place the code that could potentially raise an exception. If an exception occurs, the program jumps to the except block to handle the exception gracefully.    \n",
    "    "
   ]
  },
  {
   "cell_type": "code",
   "execution_count": 2,
   "id": "35ea3368",
   "metadata": {},
   "outputs": [
    {
     "name": "stdout",
     "output_type": "stream",
     "text": [
      "enter first number1\n",
      "enter second name0\n",
      "b should not be a zero \n"
     ]
    }
   ],
   "source": [
    "a=int(input(\"enter first number\"))\n",
    "b=int(input(\"enter second name\"))\n",
    "try:    #( we kept try(keyword) here because chances of error start from here)\n",
    "    \n",
    "    c=a/b\n",
    "    print(c)\n",
    "except: # there is a classes like ZeroDivisionError(class)\n",
    "    print(\"b should not be a zero \")"
   ]
  },
  {
   "cell_type": "markdown",
   "id": "f4dc7d7d",
   "metadata": {},
   "source": [
    "Except Clause:\n",
    "\n",
    "The purpose of the except clause is to define how your program should respond when an exception is raised in the corresponding try block. It specifies the type of exception to catch and the code to execute when that exception occurs. The except block is where you handle the exception by providing a solution, logging an error, or performing any other necessary actions."
   ]
  },
  {
   "cell_type": "markdown",
   "id": "088cade6",
   "metadata": {},
   "source": [
    "In summary, the try clause is used to encapsulate code that may raise exceptions, while the except clause is used to define how to handle those exceptions when they occur. This combination allows for controlled error handling, preventing the program from crashing and enabling you to take appropriate actions in response to exceptions.\n",
    "\n",
    "\n",
    "\n",
    "\n"
   ]
  },
  {
   "cell_type": "code",
   "execution_count": null,
   "id": "06af49b2",
   "metadata": {},
   "outputs": [],
   "source": []
  }
 ],
 "metadata": {
  "kernelspec": {
   "display_name": "Python 3 (ipykernel)",
   "language": "python",
   "name": "python3"
  },
  "language_info": {
   "codemirror_mode": {
    "name": "ipython",
    "version": 3
   },
   "file_extension": ".py",
   "mimetype": "text/x-python",
   "name": "python",
   "nbconvert_exporter": "python",
   "pygments_lexer": "ipython3",
   "version": "3.9.12"
  }
 },
 "nbformat": 4,
 "nbformat_minor": 5
}
