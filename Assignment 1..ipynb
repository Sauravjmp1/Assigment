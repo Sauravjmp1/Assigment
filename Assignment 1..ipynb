{
 "cells": [
  {
   "cell_type": "markdown",
   "id": "64d553b4",
   "metadata": {},
   "source": [
    "Q1. In the below elements which of them are values or an expression? eg:- values can be integer or string and expressions will be mathematical operators.\n",
    "\n",
    "solution:-\n",
    "\n",
    "*   = expression\n",
    "\n",
    "'hello' = value\n",
    "\n",
    "-87.8 =  value\n",
    "\n",
    "-  =  expression\n",
    "\n",
    "/ = expression\n",
    "\n",
    "+ =  expression\n",
    "\n",
    "6 = Value\n",
    "\n"
   ]
  },
  {
   "cell_type": "markdown",
   "id": "f15be05b",
   "metadata": {},
   "source": [
    "Q2.what is the difference between string and variable?\n",
    "\n",
    "solution:-\n",
    "\n",
    "a.Variable=variable are just a symbol where we can store a data in a local storage ie., RAM.\n",
    "\n",
    "       It is like a empty box where we fill some data.To store a data variable is required to process it when ever required\n",
    "       example a=\"saurav\" here a is variable \n",
    "       \n",
    "       In other word  variable as an identifier (or some kind of means) to store a value in a memory location and to manipulate it if needed.\n",
    "       \n",
    "b.string=Strings is a data type for a a sequence of characters (e.g. ‘’zaldnQfYJSMfwp”). A string is the values inside the quotes assigned to a string.       "
   ]
  },
  {
   "cell_type": "markdown",
   "id": "595fc326",
   "metadata": {},
   "source": [
    "Q3.Describe three different data types\n",
    "\n",
    "solution:-\n",
    "\n",
    "a.Sequence Data Type\n",
    "\n",
    "->String eg.,\"Saurav\"\n",
    "\n",
    "->Tuple  eg.,(\"mukesh\",2.34.3+7j)\n",
    "\n",
    "->List   eg.,[\"mukesh\",2.34.3+7j]\n",
    "\n",
    "\n",
    "b.Numeric Data Type\n",
    "-> Float       eg., 2.34\n",
    "\n",
    "-> Complex No  eg.,3+7j\n",
    "\n",
    "->Interger     eg.,1,2\n",
    "\n",
    "c.Boolean Data Type\n",
    "-> True\n",
    "\n",
    "-> False\n",
    "\n",
    "d.Dictionary Data Type\n",
    "\n",
    "eg.,{\"key\":\"value\"}\n",
    "\n",
    "e.Set Data Type\n",
    "\n",
    "eg.,{12,\"sudhakar\"}"
   ]
  },
  {
   "cell_type": "markdown",
   "id": "372a3a4b",
   "metadata": {},
   "source": [
    "Q4.What is an expression made up of? What do all expressions do?\n",
    "\n",
    "solution:-\n",
    "\n",
    "A combination of operands and operators is called an expression. The expression in Python produces some value or result after being interpreted by the Python interpreter. An expression in Python is a combination of operators and operands. \n",
    "An example of expression can be : Result= a +b here a is operands and + is operator\n",
    "-->The operators indicate what action or operation to perform. The operands indicate what items to apply the action to.    "
   ]
  },
  {
   "cell_type": "markdown",
   "id": "91ac4e4f",
   "metadata": {},
   "source": [
    "Q5. This assignment statements, like spam = 10. What is the difference between an expression and a statement?\n",
    "\n",
    "solution:-\n",
    "\n",
    "In Python, an expression is a combination of variables, operators, and values that evaluates to a single value. A statement is a complete instruction that performs some action.\n",
    "\n",
    "Here are some examples of expressions:\n",
    "    \n",
    "    2 + 2\n",
    "    3 * 7\n",
    "    1 + 2 + 3 * (8 ** 9) - sqrt(4.0)\n",
    "    \n",
    "These expressions all evaluate to a single value. For example, the expression 2 + 2 evaluates to the value 4.  \n",
    "\n",
    "These statements all perform some action.\n",
    "\n",
    "example:\n",
    "   print(\"Hello, world!\")\n",
    "   x = 5\n",
    "   y = x + 2\n",
    "   if x > y:\n",
    "   print(\"x is greater than y\")\n",
    "\n",
    "For example, the statement print(\"Hello, world!\" prints the text \"Hello, world!\" to the console.\n",
    "\n",
    "The main difference between expressions and statements is that expressions evaluate to a value,\n",
    "while statements do not. In general, expressions are used to calculate values, while statements are used to control the flow of execution.\n",
    "\n",
    "\n"
   ]
  },
  {
   "cell_type": "markdown",
   "id": "656f3d00",
   "metadata": {},
   "source": [
    "Q. 6. After running the following code, what does the variable bacon contain?\n",
    "bacon = 22\n",
    "bacon + 1\n",
    "\n",
    "solution\n",
    "\n",
    "Ans=23\n"
   ]
  },
  {
   "cell_type": "markdown",
   "id": "19208042",
   "metadata": {},
   "source": [
    "Q7. What should the values of the following two terms be?\n",
    "\n",
    "solution:-\n",
    "\n",
    "'spam' + 'spamspam'='spamspamspam'\n",
    "\n",
    "'spam' * 3 = 'spamspamspam'\n"
   ]
  },
  {
   "cell_type": "markdown",
   "id": "73fb91cb",
   "metadata": {},
   "source": [
    "Q8. Why is eggs a valid variable name while 100 is invalid?\n",
    "\n",
    "solution:-\n",
    "\n",
    "Varibale name should not be start from special character like @,#,$ and numeric no like 1,2., numeric no can be in between or may be in last\n",
    "like saurav123, that why 100 is not acts as a variable "
   ]
  },
  {
   "cell_type": "markdown",
   "id": "8e71c6d8",
   "metadata": {},
   "source": [
    "Q9. What three functions can be used to get the integer, floating-point number, or string version of a value?\n",
    "\n",
    "solution:-\n",
    "\n",
    "There is by default inbuilt funtion that are used to get integer,floating point number  and string\n",
    "\n",
    "str is an inbuilt funtion which convert any datatype into string   for string example.,str(12.45) although 12.34 is a floating point\n",
    "number but it is converted into string \"12.45\"\n",
    "\n",
    "float is an inbuilt funtion which convert integer or numeric no into floating point number   for string example.,float(12) although 12.34 is a interger\n",
    "number but it is converted into floating point number 12.0\n",
    "\n",
    "int is an inbuilt function .This function converts a value to an integer.\n",
    "For example, the following code will convert the string \"123\" to an integer:"
   ]
  },
  {
   "cell_type": "markdown",
   "id": "37b191ba",
   "metadata": {},
   "source": [
    "Q10. Why does this expression cause an error? How can you fix it?\n",
    "\n",
    "solution:-\n",
    "\n",
    "'I have eaten ' + str(99) + ' burritos.'\n",
    "\n",
    "            or\n",
    "            \n",
    "'I have eaten ' + \"99\" + ' burritos.'"
   ]
  },
  {
   "cell_type": "code",
   "execution_count": null,
   "id": "14f1b313",
   "metadata": {},
   "outputs": [],
   "source": []
  }
 ],
 "metadata": {
  "kernelspec": {
   "display_name": "Python 3 (ipykernel)",
   "language": "python",
   "name": "python3"
  },
  "language_info": {
   "codemirror_mode": {
    "name": "ipython",
    "version": 3
   },
   "file_extension": ".py",
   "mimetype": "text/x-python",
   "name": "python",
   "nbconvert_exporter": "python",
   "pygments_lexer": "ipython3",
   "version": "3.9.12"
  }
 },
 "nbformat": 4,
 "nbformat_minor": 5
}
