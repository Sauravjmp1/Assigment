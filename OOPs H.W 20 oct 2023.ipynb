{
 "cells": [
  {
   "cell_type": "markdown",
   "id": "0d689339",
   "metadata": {},
   "source": [
    "# 1. What is the primary goal of Object-Oriented Programming (OOP)?"
   ]
  },
  {
   "cell_type": "markdown",
   "id": "2a28229c",
   "metadata": {},
   "source": [
    "The main goals of OOP can be summarized as follows:\n",
    "\n",
    "Modularity: OOP allows you to break down a complex system into smaller, more manageable parts or modules (objects). Each object encapsulates its data and functionality, making it easier to understand, maintain, and extend the code.\n",
    "\n",
    "Reusability: Objects and classes can be reused in different parts of a program or even in different programs. This reusability reduces redundancy and development time.\n",
    "\n",
    "Inheritance: Inheritance enables the creation of new classes based on existing classes. This promotes code reuse and the establishment of hierarchical relationships between classes. Subclasses can inherit attributes and methods from their parent classes and then extend or override them as needed."
   ]
  },
  {
   "cell_type": "markdown",
   "id": "322a88f3",
   "metadata": {},
   "source": [
    "\n",
    "# 2.What is an object in Python?"
   ]
  },
  {
   "cell_type": "markdown",
   "id": "6acbc9a7",
   "metadata": {},
   "source": [
    "In Python, an object is a fundamental concept that represents a specific instance of a data structure or class. Everything in Python is an object, including numbers, strings, functions, and more. Objects are at the core of Python's object-oriented programming paradigm, and they encapsulate both data (attributes or properties) and the functions (methods) that operate on that data.\n",
    "\n",
    "Here are some key points to understand about objects in Python:\n",
    "\n",
    "Instances of Classes: In Python, objects are instances of classes. A class is a blueprint or template that defines the structure and behavior of objects. When you create an object, you are creating an instance of a specific class.\n",
    "\n",
    "Attributes: Objects can have attributes, which are variables associated with the object. These attributes can hold data that characterizes the object's state.\n",
    "\n",
    "Methods: Objects can also have methods, which are functions associated with the object. Methods define the actions or behaviors that the object can perform. Methods are called on objects to manipulate their state or perform specific operations.\n",
    "\n",
    "Everything Is an Object: In Python, not only user-defined classes and objects but also built-in data types like integers, floats, strings, lists, dictionaries, etc., are objects. Even functions and modules are objects in Python."
   ]
  },
  {
   "cell_type": "raw",
   "id": "404ff74e",
   "metadata": {},
   "source": [
    " #Example\n",
    " \n",
    "class Person:   # person is a class\n",
    "    def __init__(self,name,age):\n",
    "        self.name=name\n",
    "        self.age=age\n",
    "        \n",
    "#creating an object\n",
    "\n",
    "person1=Person(\"saurav\",30)\n",
    "print(person1.name)\n",
    "print(person1.age)\n",
    "\n",
    "In this example \"person1\" is an object of the \"Person\" class,\n",
    "and it has attributes \"name\" and \"age \"."
   ]
  },
  {
   "cell_type": "markdown",
   "id": "4076176b",
   "metadata": {},
   "source": [
    "# 3.What is a class in Python?"
   ]
  },
  {
   "cell_type": "markdown",
   "id": "7066738a",
   "metadata": {},
   "source": [
    "\n",
    "In Python, a class is a blueprint or template for creating objects. It defines a set of attributes (variables) and methods (functions) that objects created from the class will have. Classes are a fundamental concept in object-oriented programming (OOP), and they allow you to encapsulate data and behavior into a single unit"
   ]
  },
  {
   "cell_type": "markdown",
   "id": "55b16e68",
   "metadata": {},
   "source": [
    "# 4.What are attributes and methods in a class?"
   ]
  },
  {
   "cell_type": "markdown",
   "id": "8784652a",
   "metadata": {},
   "source": [
    "In object-oriented programming (OOP), a class is a blueprint for creating objects, and it consists of two primary components: attributes and methods.\n",
    "\n",
    "Attributes (also known as fields or properties):\n",
    "Attributes are data members that represent the state or characteristics of an object. They are essentially variables associated with the class.\n",
    "Attributes define the properties of an object and store data related to that object. For example, if you have a class representing a \"Car,\" attributes might include \"color,\" \"make,\" \"model,\" \"year,\" and \"fuel level.\""
   ]
  },
  {
   "cell_type": "raw",
   "id": "7476ea89",
   "metadata": {},
   "source": [
    "class Car:\n",
    "    def __init__(self,make,model,year):\n",
    "        self.make=make    # \"make\",\"model\",\"year\" is an attribute\"\n",
    "        self.model=model\n",
    "        self.year=year\n",
    "my_car=Car(\"Toyota\",\"Camry\",2022)        "
   ]
  },
  {
   "cell_type": "markdown",
   "id": "857d1e63",
   "metadata": {},
   "source": [
    "Methods (also known as functions or behaviors):\n",
    "\n",
    "Methods are functions that are defined within a class and operate on the attributes or perform actions related to the class.\n",
    "\n",
    "Methods define the behavior of objects created from the class. They can modify the attributes, perform calculations, or interact with other objects or external resources.\n",
    "\n",
    "Methods are called on instances of the class and can take parameters just like regular functions."
   ]
  },
  {
   "cell_type": "raw",
   "id": "1847f6bc",
   "metadata": {},
   "source": [
    "class Car:\n",
    "    def __init__(self,make,model,year):\n",
    "        self.make=make\n",
    "        self.model=model\n",
    "        self.year=year\n",
    "    def start_engine(self):\n",
    "        print(f\"The {self.year} {self.make} {self.model}`s engine is now running\" )\n",
    "        \n",
    "my_car=Car(\"Toyota\",\"Camry\",2022)\n",
    "my_car.start_engine() # calling the \"start_engine\" method"
   ]
  },
  {
   "cell_type": "markdown",
   "id": "417540d7",
   "metadata": {},
   "source": [
    "# 5.What is the difference between class variables and instance variables in Python?"
   ]
  },
  {
   "cell_type": "markdown",
   "id": "b08588f8",
   "metadata": {},
   "source": [
    "Class Variables:\n",
    "\n",
    "Class variables are shared among all instances (objects) of a class. They belong to the class itself, not to any specific instance.\n",
    "\n",
    "Class variables are defined within the class but outside of any instance methods. They are often placed at the top level of the class definition.\n",
    "\n",
    "Modifying a class variable affects all instances of the class."
   ]
  },
  {
   "cell_type": "raw",
   "id": "38e92918",
   "metadata": {},
   "source": [
    "class Myclass:\n",
    "    class_variable=0 # This is a class variable shared among all instances\n",
    "    \n",
    "    def __init__(self,instance_variable):\n",
    "        self.instance_variable=instance_variable # This is an instance variable specific to each object \n",
    "  # creating instances of Myclass\n",
    "obj1=Myclass(1)\n",
    "obj2=Myclass(2)\n",
    "\n",
    "#Modifying the class variable\n",
    "Myclass.class_variable=42\n",
    "\n",
    "print(obj1.class_variable) #Accessing class variable from an instance\n",
    "print(obj2.class_variable)"
   ]
  },
  {
   "cell_type": "markdown",
   "id": "7498cc25",
   "metadata": {},
   "source": [
    "Instance Variables:\n",
    "\n",
    "Instance variables are specific to each instance of a class. They are defined within instance methods and are usually initialized within the class's __init__ method.\n",
    "\n",
    "Instance variables represent the state or characteristics of individual objects created from the class."
   ]
  },
  {
   "cell_type": "raw",
   "id": "cd51a2c7",
   "metadata": {},
   "source": [
    "class Myclass:\n",
    "    def __init__(self,instance_variable):\n",
    "        self.instance_variable=instance_variable # This os an instances specific to each objects\n",
    "# craeting instances of Myclass with different instance variables\n",
    "obj1=Myclass(1)\n",
    "obj2=Myclass(2)\n",
    "\n",
    "print(obj1.instance_variable)\n",
    "print(obj2.instance_variable)"
   ]
  },
  {
   "cell_type": "markdown",
   "id": "3ee8a7b5",
   "metadata": {},
   "source": [
    "# 6.What is the purpose of the self parameter in Python class methods?"
   ]
  },
  {
   "cell_type": "markdown",
   "id": "aa999360",
   "metadata": {},
   "source": [
    "Instance Method Binding:\n",
    "\n",
    "The self parameter is used to bind methods to an instance of a class. It represents the instance itself and allows you to access and manipulate the instance's attributes and call other instance methods.\n",
    "When you call an instance method, the self parameter is automatically passed to the method by Python, so you don't need to provide it explicitly. This allows you to work with the specific attributes and behavior associated with that instance.\n",
    "Accessing Instance Variables:\n",
    "\n",
    "Within instance methods, you can access instance variables (also known as attributes) using the self keyword. This allows you to read or modify the state of the instance.\n",
    "For example, if you have an instance variable self.name, you can access it within an instance method as self.name.\n",
    "Calling Other Instance Methods:\n",
    "\n",
    "The self parameter enables you to call other instance methods from within the class. This promotes code organization and encapsulation, allowing you to define and reuse behavior specific to the class."
   ]
  },
  {
   "cell_type": "raw",
   "id": "cf9c1927",
   "metadata": {},
   "source": [
    "class Myclass:\n",
    "    def __init__(self,value):\n",
    "        self.value=value\n",
    "obj1=Myclass(2)\n",
    "print(obj1.value)\n",
    "\n",
    "In the above example ,\"self\" is used to access the \"value\" instance variable"
   ]
  },
  {
   "cell_type": "markdown",
   "id": "9c7d1442",
   "metadata": {},
   "source": [
    "# 7. For a library management system, you have to design the \"Book\" class with OOP\n",
    "principles in mind. The “Book” class will have following attributes:\n",
    "a. title: Represents the title of the book.\n",
    "b. author: Represents the author(s) of the book.\n",
    "c. isbn: Represents the ISBN (International Standard Book Number) of the book.\n",
    "d. publication_year: Represents the year of publication of the book.\n",
    "e. available_copies: Represents the number of copies available for checkout.\n",
    "The class will also include the following methods:\n",
    "a. check_out(self): Decrements the available copies by one if there are copies\n",
    "available for checkout.\n",
    "b. return_book(self): Increments the available copies by one when a book is\n",
    "returned.\n",
    "c. display_book_info(self): Displays the information about the book, including its\n",
    "attributes and the number of available copies."
   ]
  },
  {
   "cell_type": "raw",
   "id": "32c79cae",
   "metadata": {},
   "source": [
    "class Book:\n",
    "    def __init__(self,Title,Author,Isbn,Publication_year,Available_copy):\n",
    "        self.title=Title\n",
    "        self.author=Author\n",
    "        self.isbn=Isbn\n",
    "        self.publication_yr=Publication_year\n",
    "        self.available=Available_copy\n",
    "    def Check_out(self):\n",
    "        if self.available>0:\n",
    "            self.available=self.available-1\n",
    "            print(f\"Book {self.title} of author {self.author} is available for checkout\")\n",
    "        else:\n",
    "            print(f\" Sorry , no available copies of {self.title} for checkout\")\n",
    "    def Return_book(self):\n",
    "        self.available+=1\n",
    "        print(f\"{self.title} has been returned.\")\n",
    "        \n",
    "    def display_book_info(self):\n",
    "        print(\"Book Information\")\n",
    "        print(f\" Title:{self.title}\" )\n",
    "        print(f\" Author: {self.author}\")\n",
    "        print(f\"ISBN:{self.isbn}\")\n",
    "        print(f\" Publication Year :{self.publication_yr}\")\n",
    "        print(f\" Available copies : { self.available}\")\n",
    "        \n",
    "     In the above code,we have define the \"Book\" class with an \"__init__\" method for \n",
    "     initializing the attributes, \"check_out and \"Return_book\" method for updating the \n",
    "     available copies, and a \" display_book_info\" method for displaying the book's infomation.   "
   ]
  },
  {
   "cell_type": "code",
   "execution_count": 28,
   "id": "2394475e",
   "metadata": {},
   "outputs": [],
   "source": [
    "person1=Book(\"The Secret \",\"Author\",\"Flipkart\",2002,12)"
   ]
  },
  {
   "cell_type": "code",
   "execution_count": 29,
   "id": "b4d21170",
   "metadata": {},
   "outputs": [
    {
     "name": "stdout",
     "output_type": "stream",
     "text": [
      "Book The Secret  of author Author is available for checkout\n"
     ]
    }
   ],
   "source": [
    "person1.Check_out()"
   ]
  },
  {
   "cell_type": "code",
   "execution_count": 30,
   "id": "e24c94d9",
   "metadata": {},
   "outputs": [
    {
     "name": "stdout",
     "output_type": "stream",
     "text": [
      "The Secret  has been returned.\n"
     ]
    }
   ],
   "source": [
    "person1.Return_book()"
   ]
  },
  {
   "cell_type": "code",
   "execution_count": 31,
   "id": "d1688328",
   "metadata": {},
   "outputs": [
    {
     "data": {
      "text/plain": [
       "12"
      ]
     },
     "execution_count": 31,
     "metadata": {},
     "output_type": "execute_result"
    }
   ],
   "source": [
    "person1.available"
   ]
  },
  {
   "cell_type": "code",
   "execution_count": 32,
   "id": "c08a3028",
   "metadata": {},
   "outputs": [
    {
     "name": "stdout",
     "output_type": "stream",
     "text": [
      "Book Information\n",
      " Title:The Secret \n",
      " Author: Author\n",
      "ISBN:Flipkart\n",
      " Publication Year :2002\n",
      " Available copies : 12\n"
     ]
    }
   ],
   "source": [
    "person1.display_book_info()"
   ]
  },
  {
   "cell_type": "markdown",
   "id": "303c69ca",
   "metadata": {},
   "source": [
    "# 8. For a ticket booking system, you have to design the \"Ticket\" class with OOP\n",
    "principles in mind. The “Ticket” class should have the following attributes:\n",
    "a. ticket_id: Represents the unique identifier for the ticket.\n",
    "b. event_name: Represents the name of the event.\n",
    "c. event_date: Represents the date of the event.\n",
    "d. venue: Represents the venue of the event.\n",
    "e. seat_number: Represents the seat number associated with the ticket.\n",
    "f. price: Represents the price of the ticket.\n",
    "g. is_reserved: Represents the reservation status of the ticket.\n",
    "The class also includes the following methods:\n",
    "a. reserve_ticket(self): Marks the ticket as reserved if it is not already reserved.\n",
    "b. cancel_reservation(self): Cancels the reservation of the ticket if it is already\n",
    "reserved.\n",
    "c. display_ticket_info(self): Displays the information about the ticket, including its\n",
    "attributes and reservation status.\n"
   ]
  },
  {
   "cell_type": "code",
   "execution_count": 72,
   "id": "e2a917aa",
   "metadata": {},
   "outputs": [],
   "source": [
    "class Ticket:\n",
    "    def __init__(self,ticket_id,event_name,event_date,venue,seat_number,price):\n",
    "        self.ticket_id=ticket_id\n",
    "        self.event_name=event_name\n",
    "        self.event_date=event_date\n",
    "        self.venue=venue\n",
    "        self.seat_number=seat_number\n",
    "        self.price=price\n",
    "        self.is_reserved=False\n",
    "    def reserved_ticket(self):\n",
    "        if not self.is_reserved:\n",
    "            self.is_reserved=True\n",
    "            print(f\" Ticket {self.ticket_id} has been reserved for {self.event_name}\")\n",
    "        else:\n",
    "            print(f\" Ticket {self.ticket_id} is already reserved.\")\n",
    "    def cancel_reservation(self):\n",
    "        if not self.is_reserved:\n",
    "            self.is_reserved=False\n",
    "            print(f\" Reservation for Ticket {self.ticket_id} has been canceled.\")\n",
    "        else:\n",
    "            print(f\" Ticket {self.ticket_id} is not reserved, so it cannot be canceled\")\n",
    "if __name__==\"__main__\":\n",
    "    ticket1=Ticket(1,\" Ajit Rock show\",\"10 Nov 2023\",\" Bengaluru \",\"231\",501) \n",
    "    \n",
    "    \n",
    "           \n",
    "            "
   ]
  },
  {
   "cell_type": "code",
   "execution_count": 73,
   "id": "25e166f4",
   "metadata": {},
   "outputs": [
    {
     "name": "stdout",
     "output_type": "stream",
     "text": [
      " Ticket 1 has been reserved for  Ajit Rock show\n"
     ]
    }
   ],
   "source": [
    "ticket1.reserved_ticket()"
   ]
  },
  {
   "cell_type": "code",
   "execution_count": 74,
   "id": "cf810ad8",
   "metadata": {},
   "outputs": [
    {
     "name": "stdout",
     "output_type": "stream",
     "text": [
      " Ticket 1 is not reserved, so it cannot be canceled\n"
     ]
    }
   ],
   "source": [
    "ticket1.cancel_reservation()"
   ]
  },
  {
   "cell_type": "markdown",
   "id": "2ededf90",
   "metadata": {},
   "source": [
    "# 9. You are creating a shopping cart for an e-commerce website. Using OOP to model\n",
    "the \"ShoppingCart\" functionality the class should contain following attributes and\n",
    "methods:\n",
    "a. items: Represents the list of items in the shopping cart.\n",
    "The class also includes the following methods:\n",
    "a. add_item(self, item): Adds an item to the shopping cart by appending it to the\n",
    "list of items.\n",
    "b. remove_item(self, item): Removes an item from the shopping cart if it exists in\n",
    "the list.\n",
    "c. view_cart(self): Displays the items currently present in the shopping cart.\n",
    "d. clear_cart(self): Clears all items from the shopping cart by reassigning an\n",
    "empty list to the items attribute.\n"
   ]
  },
  {
   "cell_type": "code",
   "execution_count": 75,
   "id": "fe7ebbb2",
   "metadata": {},
   "outputs": [],
   "source": [
    "class ShoppingCart:\n",
    "    def __init__(self):\n",
    "        self.items=[]\n",
    "    def add_item(self,item):\n",
    "        self.items.append(item)\n",
    "        print(f\"Added {item} to the shopping cart\")\n",
    "    def remove_item(self,item):\n",
    "        if item in self.items:\n",
    "            \n",
    "            self.items.remove(item)\n",
    "            \n",
    "            print(f\" Removed {item} from the shopping cart\" )\n",
    "        else:\n",
    "            print(f\"{item} is not in the shopping cart\")\n",
    "    def view_cart(self):\n",
    "        if not self.items:\n",
    "            print(\"Your shopping cart is empty\")\n",
    "        else:\n",
    "            print(\"Items is in your shopping cart:\")\n",
    "            for item in self.items:\n",
    "                print(item)\n",
    "    def clear_cart(self):\n",
    "        self.items=[]\n",
    "        print(\"Your shopping cart has been cleared\")\n",
    "            "
   ]
  },
  {
   "cell_type": "code",
   "execution_count": 76,
   "id": "525bb6b6",
   "metadata": {},
   "outputs": [],
   "source": [
    "cart=ShoppingCart()"
   ]
  },
  {
   "cell_type": "code",
   "execution_count": 88,
   "id": "66658cc1",
   "metadata": {},
   "outputs": [
    {
     "name": "stdout",
     "output_type": "stream",
     "text": [
      "Added Mango to the shopping cart\n"
     ]
    }
   ],
   "source": [
    "cart.add_item(\"Mango\")"
   ]
  },
  {
   "cell_type": "code",
   "execution_count": 87,
   "id": "dcc677df",
   "metadata": {},
   "outputs": [
    {
     "name": "stdout",
     "output_type": "stream",
     "text": [
      "Mango is not in the shopping cart\n"
     ]
    }
   ],
   "source": [
    "cart.remove_item(\"Mango\")"
   ]
  },
  {
   "cell_type": "code",
   "execution_count": 91,
   "id": "0c2fd9ee",
   "metadata": {},
   "outputs": [
    {
     "data": {
      "text/plain": [
       "[]"
      ]
     },
     "execution_count": 91,
     "metadata": {},
     "output_type": "execute_result"
    }
   ],
   "source": [
    "cart.items"
   ]
  },
  {
   "cell_type": "code",
   "execution_count": 86,
   "id": "9c7de2d5",
   "metadata": {},
   "outputs": [
    {
     "name": "stdout",
     "output_type": "stream",
     "text": [
      "Your shopping cart is empty\n"
     ]
    }
   ],
   "source": [
    "cart.view_cart()"
   ]
  },
  {
   "cell_type": "code",
   "execution_count": 90,
   "id": "ac993392",
   "metadata": {},
   "outputs": [
    {
     "name": "stdout",
     "output_type": "stream",
     "text": [
      "Your shopping cart has been cleared\n"
     ]
    }
   ],
   "source": [
    "cart.clear_cart()"
   ]
  },
  {
   "cell_type": "code",
   "execution_count": null,
   "id": "755fb6e5",
   "metadata": {},
   "outputs": [],
   "source": []
  }
 ],
 "metadata": {
  "kernelspec": {
   "display_name": "Python 3 (ipykernel)",
   "language": "python",
   "name": "python3"
  },
  "language_info": {
   "codemirror_mode": {
    "name": "ipython",
    "version": 3
   },
   "file_extension": ".py",
   "mimetype": "text/x-python",
   "name": "python",
   "nbconvert_exporter": "python",
   "pygments_lexer": "ipython3",
   "version": "3.9.12"
  }
 },
 "nbformat": 4,
 "nbformat_minor": 5
}
