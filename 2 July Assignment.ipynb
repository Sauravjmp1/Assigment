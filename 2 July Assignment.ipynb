{
 "cells": [
  {
   "cell_type": "markdown",
   "id": "91dbbdd8",
   "metadata": {},
   "source": [
    "# 1. Explain what inheritance is in object-oriented programming and why it is used."
   ]
  },
  {
   "cell_type": "markdown",
   "id": "bb1a2742",
   "metadata": {},
   "source": [
    "Inheritance is one of the fundamental concepts in object-oriented programming (OOP) and is used to create a new class based on an existing class. Inheritance allows you to define a new class (called a subclass or derived class) that inherits attributes and behaviors from an existing class (called a superclass or base class). The subclass can then extend or specialize the inherited attributes and behaviors, and it can also add new attributes and behaviors of its own."
   ]
  },
  {
   "cell_type": "markdown",
   "id": "26d4d956",
   "metadata": {},
   "source": [
    "# 2. Discuss the concept of single inheritance and multiple inheritance, highlighting their differences and advantages."
   ]
  },
  {
   "cell_type": "markdown",
   "id": "523d5296",
   "metadata": {},
   "source": [
    "Single inheritance and multiple inheritance are two different approaches to class inheritance in object-oriented programming (OOP). Each has its own advantages and considerations, and the choice between them depends on the specific design and requirements of a software project.\n",
    "\n",
    "Single Inheritance:\n",
    "\n",
    "Definition: In single inheritance, a class can inherit attributes and behaviors from only one superclass (base class).\n",
    "\n",
    "Advantages:\n",
    "\n",
    "a. Simplicity: Single inheritance is simpler to understand and implement because each class has only one parent class to inherit from. This reduces the complexity of class hierarchies.\n",
    "\n",
    "b. Avoids Ambiguity: There's no ambiguity when a subclass needs to access an attribute or method because there's only one source for each.\n"
   ]
  },
  {
   "cell_type": "code",
   "execution_count": 10,
   "id": "36f79ce7",
   "metadata": {},
   "outputs": [],
   "source": [
    "# Example\n",
    "class Vehicle:\n",
    "    def move(self):\n",
    "        print(\"Vehicle is moving\")\n",
    "class car(Vehicle):\n",
    "    def start(self):\n",
    "        print(\"car started\")\n",
    "        "
   ]
  },
  {
   "cell_type": "code",
   "execution_count": 11,
   "id": "68d918d2",
   "metadata": {},
   "outputs": [
    {
     "name": "stdout",
     "output_type": "stream",
     "text": [
      "Vehicle is moving\n",
      "car started\n"
     ]
    }
   ],
   "source": [
    "car1=car()\n",
    "car1.move()\n",
    "car1.start()"
   ]
  },
  {
   "cell_type": "markdown",
   "id": "5804b914",
   "metadata": {},
   "source": [
    "Multiple Inheritance:\n",
    "\n",
    "Definition: In multiple inheritance, a class can inherit attributes and behaviors from more than one superclass (base class). This means a class can have multiple parent classes."
   ]
  },
  {
   "cell_type": "code",
   "execution_count": 12,
   "id": "ce302192",
   "metadata": {},
   "outputs": [],
   "source": [
    "class Vehicle:\n",
    "    def move(self):\n",
    "        print(\"Vehicle is moving\")\n",
    "class Radio:\n",
    "    def play_music(self):\n",
    "        print(\"playing music\")\n",
    "class Car(Vehicle,Radio):\n",
    "    def start(self):\n",
    "        print(\"car started\")\n",
    "            "
   ]
  },
  {
   "cell_type": "code",
   "execution_count": 13,
   "id": "2d5d74e7",
   "metadata": {},
   "outputs": [],
   "source": [
    "car1=Car()"
   ]
  },
  {
   "cell_type": "code",
   "execution_count": 14,
   "id": "f6c99321",
   "metadata": {},
   "outputs": [
    {
     "name": "stdout",
     "output_type": "stream",
     "text": [
      "car started\n"
     ]
    }
   ],
   "source": [
    "car1.start()"
   ]
  },
  {
   "cell_type": "markdown",
   "id": "9a41df1b",
   "metadata": {},
   "source": [
    "# 3.Explain the terms \"base class\" and \"derived class\" in the context of inheritance."
   ]
  },
  {
   "cell_type": "markdown",
   "id": "66fc6cc1",
   "metadata": {},
   "source": [
    "Base Class (Superclass):\n",
    "\n",
    "A base class, also known as a superclass or parent class, is a class that serves as the starting point or foundation for inheritance.\n",
    "\n",
    "Derived Class (Subclass):\n",
    "\n",
    "A derived class, also known as a subclass or child class, is a class that inherits attributes and behaviors from one or more base classes.\n"
   ]
  },
  {
   "cell_type": "code",
   "execution_count": 22,
   "id": "0526f687",
   "metadata": {},
   "outputs": [],
   "source": [
    "class Vehicle: # Base class\n",
    "    def __init__(self,brand,model):\n",
    "        self.brand=brand\n",
    "        self.model=model\n",
    "    def start_engine(self):\n",
    "        print(f\"{self.brand} {self.model} engine started.\")\n",
    "        \n",
    "class Car(Vehicle): # Derived class\n",
    "    def __init__(self,brand,model,color):\n",
    "        super().__init__(brand,model) # call the constructor of the class\n",
    "        self.color=color\n",
    "            \n",
    "    def drive(self):\n",
    "        print(f\" {self.color} car is moving \")\n",
    " \n",
    " #In this example, \"Vehicle\" is the base class, and \"Car\" is the derived class. The Car class inherits the attributes and methods of the Vehicle class (brand, model, and start_engine), and it adds its own attribute (color) and method (drive)."
   ]
  },
  {
   "cell_type": "code",
   "execution_count": 23,
   "id": "e6822f38",
   "metadata": {},
   "outputs": [],
   "source": [
    "car1=Car(\"Toyota\",\"Camry\",\"Blue\")"
   ]
  },
  {
   "cell_type": "code",
   "execution_count": 24,
   "id": "3c56720e",
   "metadata": {},
   "outputs": [
    {
     "name": "stdout",
     "output_type": "stream",
     "text": [
      "Toyota Camry engine started.\n"
     ]
    }
   ],
   "source": [
    "car1.start_engine()"
   ]
  },
  {
   "cell_type": "code",
   "execution_count": 25,
   "id": "f2c47bb4",
   "metadata": {},
   "outputs": [
    {
     "name": "stdout",
     "output_type": "stream",
     "text": [
      " Blue car is moving \n"
     ]
    }
   ],
   "source": [
    "car1.drive()"
   ]
  },
  {
   "cell_type": "markdown",
   "id": "dcbe1502",
   "metadata": {},
   "source": [
    "# 4. What is the significance of the \"protected\" access modifier in inheritance? How does it differ from \"private\" and \"public\" modifiers?"
   ]
  },
  {
   "cell_type": "markdown",
   "id": "8590fd3e",
   "metadata": {},
   "source": [
    "In Python, access control is not as strict as in some other languages like C++ or Java, but it still has three access modifiers: public, protected, and private. However, it's important to note that these access modifiers are more like naming conventions and not enforced by the language itself. Here's an explanation of how they work and their differences:"
   ]
  },
  {
   "cell_type": "code",
   "execution_count": 2,
   "id": "4e3d4e5a",
   "metadata": {},
   "outputs": [],
   "source": [
    "## All the class variable are public\n",
    "class Car():\n",
    "    def __init__(self,windows,doors,engine_type):\n",
    "        self.windows=windows\n",
    "        self.doors=doors\n",
    "        self.engine_type=engine_type"
   ]
  },
  {
   "cell_type": "code",
   "execution_count": 4,
   "id": "16392e65",
   "metadata": {},
   "outputs": [],
   "source": [
    "audi=Car(4,5,\"Diesel\")"
   ]
  },
  {
   "cell_type": "code",
   "execution_count": 7,
   "id": "124ab5f3",
   "metadata": {},
   "outputs": [],
   "source": [
    "## All the class variables are protected\n",
    "class Car():\n",
    "    def __init__(self,windows,doors,engine_type):\n",
    "        self._windows=windows\n",
    "        self._windows=windows\n",
    "        self._engine_type=engine_type"
   ]
  },
  {
   "cell_type": "code",
   "execution_count": 10,
   "id": "304ccc89",
   "metadata": {},
   "outputs": [],
   "source": [
    "class Truck(Car):\n",
    "    def __init__(self,windows,doors,engine_type,horse_power):\n",
    "        super().__init__(windows,doors,engine_type)\n",
    "        self.horse_power=horse_power"
   ]
  },
  {
   "cell_type": "code",
   "execution_count": 11,
   "id": "8c049d94",
   "metadata": {},
   "outputs": [],
   "source": [
    "Truck1=Truck(4,4,\"Diesel\",4000)"
   ]
  },
  {
   "cell_type": "markdown",
   "id": "fa9b672a",
   "metadata": {},
   "source": [
    "# 5. What is the purpose of the \"super\" keyword in inheritance? Provide an example."
   ]
  },
  {
   "cell_type": "markdown",
   "id": "ee9cce09",
   "metadata": {},
   "source": [
    "In inheritance, the super keyword is used to call a method from the parent class (the base or superclass) within the context of the child class (the derived or subclass). It is particularly useful when you want to extend or modify the behavior of a method in the subclass while still leveraging the functionality provided by the superclass"
   ]
  },
  {
   "cell_type": "code",
   "execution_count": 82,
   "id": "a5cd466f",
   "metadata": {},
   "outputs": [],
   "source": [
    "class Datascience:\n",
    "    def __init__(self,python,SQL,ML):\n",
    "        self.python=python\n",
    "        self.sql=SQL\n",
    "        self.ml=ML\n",
    "    def Data_science(self):\n",
    "        print(f\" For getting job in DS one must have knowledge of {self.python} {self.sql}and {self.ml}\")\n",
    "class Dataengineer(Datascience):\n",
    "    def __init__(self,python,SQL,ML,Power_BI):\n",
    "        super().__init__(python,SQL,ML)\n",
    "        self.Power_BI=Power_BI\n",
    "    def Data_engineer(self):\n",
    "        print(f\"for getting job in Data Engineer one must have knowledge of {self.python},{self.sql},{self.ml} and {self.Power_BI}\")\n",
    "        "
   ]
  },
  {
   "cell_type": "code",
   "execution_count": 83,
   "id": "8a35ec8d",
   "metadata": {},
   "outputs": [],
   "source": [
    "student1=Datascience(\"PYTHON\",\"SQL\",\"Ml\")"
   ]
  },
  {
   "cell_type": "code",
   "execution_count": 84,
   "id": "55ff87f9",
   "metadata": {},
   "outputs": [
    {
     "name": "stdout",
     "output_type": "stream",
     "text": [
      " For getting job in DS one must have knowledge of PYTHON SQLand Ml\n"
     ]
    }
   ],
   "source": [
    "student1.Data_science()"
   ]
  },
  {
   "cell_type": "code",
   "execution_count": 85,
   "id": "fdbcc931",
   "metadata": {},
   "outputs": [],
   "source": [
    "student2=Dataengineer(\"PYTHON\",\"SQL\",\"ML\",\"POWER_BI\")"
   ]
  },
  {
   "cell_type": "code",
   "execution_count": 86,
   "id": "c382591d",
   "metadata": {},
   "outputs": [
    {
     "name": "stdout",
     "output_type": "stream",
     "text": [
      "for getting job in Data Engineer one must have knowledge of PYTHON,SQL,ML and POWER_BI\n"
     ]
    }
   ],
   "source": [
    "student2.Data_engineer()"
   ]
  },
  {
   "cell_type": "markdown",
   "id": "5f99dbdf",
   "metadata": {},
   "source": [
    "# 6 Create a base class called \"Vehicle\" with attributes like \"make\", \"model\", and \"year\".Then, create a derived class called \"Car\" that inherits from \"Vehicle\" and adds an attribute called \"fuel_type\". Implement appropriate methods in both classes."
   ]
  },
  {
   "cell_type": "code",
   "execution_count": 96,
   "id": "b895c617",
   "metadata": {},
   "outputs": [],
   "source": [
    "class Vehicle:\n",
    "    def __init__(self,make,model,year):\n",
    "        self.make=make\n",
    "        self.model=model\n",
    "        self.year=year\n",
    "    def vehicle(self):\n",
    "        print(f\" The vehicle manufacture by {self.make},{self.model} and {self.year}\")\n",
    "class Car(Vehicle):\n",
    "    def __init__(self,make,model,year,fuel_type):\n",
    "        super().__init__(make,model,year)\n",
    "        self.fuel_type=fuel_type\n",
    "    def car(self):\n",
    "        print(f\" The car manf by {self.make},{self.model},{self.year} and {self.fuel_type}\")\n",
    "        "
   ]
  },
  {
   "cell_type": "code",
   "execution_count": 97,
   "id": "9cf5c6c6",
   "metadata": {},
   "outputs": [],
   "source": [
    "vehicle1=Vehicle(\"TATa\",\"Jagwar\",2023)"
   ]
  },
  {
   "cell_type": "code",
   "execution_count": 98,
   "id": "1441a10d",
   "metadata": {},
   "outputs": [],
   "source": [
    "car1=Car(\"TOYOTA\",\"Wagenor\",2004,\"CNG\")"
   ]
  },
  {
   "cell_type": "code",
   "execution_count": 99,
   "id": "eb87c249",
   "metadata": {},
   "outputs": [
    {
     "name": "stdout",
     "output_type": "stream",
     "text": [
      " The car manf by TOYOTA,Wagenor,2004 and CNG\n"
     ]
    }
   ],
   "source": [
    "car1.car()"
   ]
  },
  {
   "cell_type": "markdown",
   "id": "6a5aa867",
   "metadata": {},
   "source": [
    "# 7.Create a base class called \"Employee\" with attributes like \"name\" and \"salary.\"Derive two classes, \"Manager\" and \"Developer,\" from \"Employee.\" Add an additionalattribute called \"department\" for the \"Manager\" class and \"programming_language\"for the \"Developer\" class."
   ]
  },
  {
   "cell_type": "code",
   "execution_count": 2,
   "id": "01c671d9",
   "metadata": {},
   "outputs": [],
   "source": [
    "class Employee:\n",
    "    def __init__(self,name,salary):\n",
    "        self.name=name\n",
    "        self.salary=salary\n",
    "class Manager(Employee):\n",
    "    def __init__(self,name,salary,department):\n",
    "        super().__init__(name,salary)\n",
    "        self.department=department\n",
    "class Developer(Employee):\n",
    "    def __init__(self,name,salary,programming_language):\n",
    "        \n",
    "        super().__init__(name,salary)\n",
    "        self.programming_language=programming_language\n",
    "    "
   ]
  },
  {
   "cell_type": "code",
   "execution_count": 3,
   "id": "d8855837",
   "metadata": {},
   "outputs": [],
   "source": [
    "employee1=Employee(\"saurav\",\"kumar\")"
   ]
  },
  {
   "cell_type": "code",
   "execution_count": 4,
   "id": "fe397d7a",
   "metadata": {},
   "outputs": [],
   "source": [
    "employee2=Developer(\"Mukesh\",\"Kumar\",\"Python\")"
   ]
  },
  {
   "cell_type": "markdown",
   "id": "926dafb0",
   "metadata": {},
   "source": [
    "# 8. Design a base class called \"Shape\" with attributes like \"colour\" and \"border_width.\"Create derived classes, \"Rectangle\" and \"Circle,\" that inherit from \"Shape\" and add specific attributes like \"length\" and \"width\" for the \"Rectangle\" class and \"radius\" for the \"Circle\" class."
   ]
  },
  {
   "cell_type": "code",
   "execution_count": 16,
   "id": "b3fab0a6",
   "metadata": {},
   "outputs": [],
   "source": [
    "class Shape:\n",
    "    def __init__(self,colour,border):\n",
    "        self.colour=colour\n",
    "        self.border=border\n",
    "class Rectange(Shape):\n",
    "    def __init__(self,colour,border,length,width):\n",
    "        super().__init__(colour,border)\n",
    "        self.length=length\n",
    "        self.width=width\n",
    "class Circle(Shape):\n",
    "    def __init__(self,colour,border,radius):\n",
    "        super().__init__(colour,border)\n",
    "        self.radius=radius\n",
    "    \n",
    "    "
   ]
  },
  {
   "cell_type": "code",
   "execution_count": 17,
   "id": "ffb269a3",
   "metadata": {},
   "outputs": [],
   "source": [
    "shape1=Shape(\"Megenta\",\"Thin\")"
   ]
  },
  {
   "cell_type": "code",
   "execution_count": 18,
   "id": "976fa0fd",
   "metadata": {},
   "outputs": [
    {
     "data": {
      "text/plain": [
       "'Thin'"
      ]
     },
     "execution_count": 18,
     "metadata": {},
     "output_type": "execute_result"
    }
   ],
   "source": [
    "shape1.border"
   ]
  },
  {
   "cell_type": "code",
   "execution_count": 19,
   "id": "c7d3a9bb",
   "metadata": {},
   "outputs": [],
   "source": [
    "circle1=Circle(\"Blue\",\"Black\",24)"
   ]
  },
  {
   "cell_type": "code",
   "execution_count": 21,
   "id": "9aac4955",
   "metadata": {},
   "outputs": [
    {
     "data": {
      "text/plain": [
       "'Blue'"
      ]
     },
     "execution_count": 21,
     "metadata": {},
     "output_type": "execute_result"
    }
   ],
   "source": [
    "circle1.colour"
   ]
  },
  {
   "cell_type": "markdown",
   "id": "e262bee5",
   "metadata": {},
   "source": [
    " # 9.Create a base class called \"Device\" with attributes like \"brand\" and \"model.\" Derive two classes, \"Phone\" and \"Tablet,\" from \"Device.\" Add specific attributes like \"screen_size\" for the \"Phone\" class and \"battery_capacity\" for the \"Tablet\" class."
   ]
  },
  {
   "cell_type": "code",
   "execution_count": 22,
   "id": "5cd1fb40",
   "metadata": {},
   "outputs": [],
   "source": [
    "class Device:\n",
    "    def __init__(self,brand,model):\n",
    "        self.brand=brand\n",
    "        self.model=model\n",
    "class Phone(Device):\n",
    "    def __init__(self,brand,model,screen_size):\n",
    "        super().__Init__(brand,model)\n",
    "        self.screen_size=screen_size\n",
    "class Tablet(Device):\n",
    "    def __init__(self,brand,model,battery_capacity):\n",
    "        super().__init__(brand,model)\n",
    "        self.battery_capacity=battery_capacity\n",
    "        "
   ]
  },
  {
   "cell_type": "code",
   "execution_count": 23,
   "id": "88877f30",
   "metadata": {},
   "outputs": [],
   "source": [
    "device1=Device(\"Micromax\",\"A9\")"
   ]
  },
  {
   "cell_type": "code",
   "execution_count": 24,
   "id": "c6d7b5e4",
   "metadata": {},
   "outputs": [],
   "source": [
    "samsung=Tablet(\"SAMSUNG\",\"GALAXY\",\"8000 Mah\")"
   ]
  },
  {
   "cell_type": "code",
   "execution_count": 25,
   "id": "94452a87",
   "metadata": {},
   "outputs": [
    {
     "data": {
      "text/plain": [
       "'SAMSUNG'"
      ]
     },
     "execution_count": 25,
     "metadata": {},
     "output_type": "execute_result"
    }
   ],
   "source": [
    "samsung.brand"
   ]
  },
  {
   "cell_type": "code",
   "execution_count": 26,
   "id": "0766d9d8",
   "metadata": {},
   "outputs": [
    {
     "data": {
      "text/plain": [
       "'8000 Mah'"
      ]
     },
     "execution_count": 26,
     "metadata": {},
     "output_type": "execute_result"
    }
   ],
   "source": [
    "samsung.battery_capacity"
   ]
  },
  {
   "cell_type": "markdown",
   "id": "5205504f",
   "metadata": {},
   "source": [
    "# 10 Create a base class called \"BankAccount\" with attributes like \"account_number\" and \"balance.\" Derive two classes, \"SavingsAccount\" and \"CheckingAccount,\" from \"BankAccount.\" Add specific methods like \"calculate_interest\" for the \"SavingsAccount\" class and \"deduct_fees\" for the \"CheckingAccount\" class."
   ]
  },
  {
   "cell_type": "code",
   "execution_count": 4,
   "id": "11d4064f",
   "metadata": {},
   "outputs": [],
   "source": [
    "class BankAccount:\n",
    "    def __init__(self,account_number,balance):\n",
    "        \n",
    "        self.account_number=account_number\n",
    "        self.balance=balance\n",
    "class SavingAccount(BankAccount):\n",
    "    def __init__(self,account_number,balance):\n",
    "        \n",
    "        super().__init__(account_number,balance)\n",
    "        self.calculate_interest=calculate_interest\n",
    "class CheckingAccount(BankAccount):\n",
    "    def __init__(self,account_number,balance,deduct_fees):\n",
    "        super().__init__(account_number,balance)\n",
    "        self.deduct_fees=deduct_fees\n",
    "        "
   ]
  },
  {
   "cell_type": "code",
   "execution_count": 5,
   "id": "c5c4cf7b",
   "metadata": {},
   "outputs": [],
   "source": [
    "bank_account1=BankAccount(33378700611,40000)"
   ]
  },
  {
   "cell_type": "code",
   "execution_count": 6,
   "id": "e35f4e46",
   "metadata": {},
   "outputs": [
    {
     "data": {
      "text/plain": [
       "33378700611"
      ]
     },
     "execution_count": 6,
     "metadata": {},
     "output_type": "execute_result"
    }
   ],
   "source": [
    "bank_account1.account_number"
   ]
  },
  {
   "cell_type": "code",
   "execution_count": 8,
   "id": "d058ded1",
   "metadata": {},
   "outputs": [],
   "source": [
    "checkbalance=CheckingAccount(33378700611,378000,890)"
   ]
  },
  {
   "cell_type": "code",
   "execution_count": 9,
   "id": "7ad69e09",
   "metadata": {},
   "outputs": [
    {
     "data": {
      "text/plain": [
       "890"
      ]
     },
     "execution_count": 9,
     "metadata": {},
     "output_type": "execute_result"
    }
   ],
   "source": [
    "checkbalance.deduct_fees"
   ]
  },
  {
   "cell_type": "code",
   "execution_count": null,
   "id": "90413dfd",
   "metadata": {},
   "outputs": [],
   "source": []
  }
 ],
 "metadata": {
  "kernelspec": {
   "display_name": "Python 3 (ipykernel)",
   "language": "python",
   "name": "python3"
  },
  "language_info": {
   "codemirror_mode": {
    "name": "ipython",
    "version": 3
   },
   "file_extension": ".py",
   "mimetype": "text/x-python",
   "name": "python",
   "nbconvert_exporter": "python",
   "pygments_lexer": "ipython3",
   "version": "3.9.12"
  }
 },
 "nbformat": 4,
 "nbformat_minor": 5
}
