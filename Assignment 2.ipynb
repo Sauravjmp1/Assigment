{
 "cells": [
  {
   "cell_type": "markdown",
   "id": "e0620e35",
   "metadata": {},
   "source": [
    "Q1 . What are the two values of the Boolean data type? How do you write them?\n",
    "\n",
    "solution:\n",
    "It has two value ie.,True and False\n",
    "\n",
    "True means  1\n",
    "\n",
    "False means 0\n",
    "\n",
    "We can write it as True and False"
   ]
  },
  {
   "cell_type": "markdown",
   "id": "67a4fc8c",
   "metadata": {},
   "source": [
    "Q2.What are the three different types of Boolean operators?\n",
    "\n",
    "soluntion:\n",
    "\n",
    "a. OR\n",
    "\n",
    "b. AND\n",
    "\n",
    "c. NOT"
   ]
  },
  {
   "cell_type": "markdown",
   "id": "daa4a502",
   "metadata": {},
   "source": [
    "Q3. Make a list of each Boolean operator's truth tables (i.e. every possible combination of Boolean values for the operator and what it evaluate ).\n",
    "solution:-\n",
    "\n",
    "AND Operator\n",
    "\n",
    "| A | B | A AND B|\n",
    "\n",
    "| 0 | 1 |    0   |\n",
    "\n",
    "| 1 | 0 |    0   |\n",
    "\n",
    "| 0 | 0 |    0   |\n",
    "\n",
    "| 1 | 1 |    1   |\n",
    "\n",
    "OR Operator\n",
    "\n",
    "| A | B | A OR  B|\n",
    "\n",
    "| 0 | 1 |    1   |\n",
    "\n",
    "| 1 | 0 |    1   |\n",
    "\n",
    "| 0 | 0 |    0   |\n",
    "\n",
    "| 1 | 1 |    1   |\n",
    "\n",
    "NOT Operator\n",
    "\n",
    "| A | NOT A|\n",
    "\n",
    "| 0 |  1   |\n",
    "\n",
    "| 1 |  0   |\n"
   ]
  },
  {
   "cell_type": "markdown",
   "id": "21d93966",
   "metadata": {},
   "source": [
    "Qn4. What are the values of the following expressions?\n",
    "\n",
    "(5 > 4) and (3 == 5)                  False\n",
    "\n",
    "not (5 > 4)                           False  \n",
    "\n",
    "(5 > 4) or (3 == 5)                    True\n",
    "\n",
    "not ((5 > 4) or (3 == 5))             False\n",
    "\n",
    "(True and True) and (True == False)   False\n",
    "\n",
    "(not False) or (not True)              True\n"
   ]
  },
  {
   "cell_type": "markdown",
   "id": "e0275a64",
   "metadata": {},
   "source": [
    "Q5. What are the six comparison operators?\n",
    "\n",
    "Equal to                ==\n",
    "\n",
    "Not Equal to            !=\n",
    "\n",
    "Greater Then             >\n",
    "\n",
    "Less Then                <\n",
    "\n",
    "Less Then Equal to      =<\n",
    "\n",
    "Greater Then Equal to   >="
   ]
  },
  {
   "cell_type": "markdown",
   "id": "2b151b0f",
   "metadata": {},
   "source": [
    "Q.How do you tell the difference between the equal to and assignment operators?Describe a condition and when you would use one.\n",
    "\n",
    "Equal to Operator (==): The equal to operator is used to compare two values for equality\n",
    "    \n",
    "        \n",
    "Assignment Operator (=): The assignment operator is used to assign a value to a variable.   \n",
    "    \n",
    "for example \n",
    "    n=[4,5,6,7,8]   Here we assign a list data type to variable n\n",
    "    \n",
    "    for i in n:\n",
    "        \n",
    "        if i==4:    Here we compare two values\n",
    "            \n",
    "        print(\"True\")    \n",
    "        "
   ]
  },
  {
   "cell_type": "markdown",
   "id": "c9bee347",
   "metadata": {},
   "source": [
    "Q7. Identify the three blocks in this code:\n",
    "    \n",
    "solution:-\n",
    "    \n",
    "spam = 0\n",
    "\n",
    "if spam == 10:\n",
    "    \n",
    "     \n",
    "    print('eggs')\n",
    "if spam > 5:\n",
    "    \n",
    "    print('bacon')\n",
    "    \n",
    "else:\n",
    "    \n",
    "    print('ham')\n",
    "    print('spam')\n",
    "    "
   ]
  },
  {
   "cell_type": "markdown",
   "id": "2371ca21",
   "metadata": {},
   "source": [
    "Q8. Write code that prints Hello if 1 is stored in spam, prints Howdy if 2 is stored in spam, and prints Greetings! if anything else is stored in spam.\n",
    "\n"
   ]
  },
  {
   "cell_type": "code",
   "execution_count": null,
   "id": "2fe07bf5",
   "metadata": {},
   "outputs": [],
   "source": [
    "#8 solution :-\n",
    "    \n",
    "spam=[1,2,3,\"sudh\"]\n",
    "for i in spam:\n",
    "    if i==1:\n",
    "        print(\"Hello\")\n",
    "    if i==2:\n",
    "        print(\"Howdy\")\n",
    "else:\n",
    "    \n",
    "    print(\"greeting\")"
   ]
  },
  {
   "cell_type": "markdown",
   "id": "8f91b2c1",
   "metadata": {},
   "source": [
    "Q9.If your programme is stuck in an endless loop, what keys you’ll press?\n",
    "\n",
    "solution:-\n",
    "\n",
    "break is an inbuilt function that is used to end the loop    \n"
   ]
  },
  {
   "cell_type": "markdown",
   "id": "f277e58a",
   "metadata": {},
   "source": [
    "Q10. How can you tell the difference between break and continue?\n",
    "\n",
    "break   : break is a inbuilt function that is used when we stuck in an endless loop\n",
    "continue: continue is a inbuilt funtion that is used when we don't want to execute the code\n",
    "    "
   ]
  },
  {
   "cell_type": "markdown",
   "id": "b62d79c4",
   "metadata": {},
   "source": [
    "Q11. In a for loop, what is the difference between range(10), range(0, 10), and range(0, 10, 1)?\n",
    "\n",
    "solution:\n",
    "\n",
    "    output wise all three are same the difference is only is that in range(10) lower bound and stepsize  is not mentioned\n",
    "    \n",
    "    by default it is 0 and 1 and in  range(0, 10) step size in not mention by default it is 1\n",
    "    \n",
    "    whereas in range(0,10,1) upper bound ,lower bound and stpe size is mention\n"
   ]
  },
  {
   "cell_type": "code",
   "execution_count": null,
   "id": "769b1d1e",
   "metadata": {},
   "outputs": [],
   "source": [
    "12. Write a short program that prints the numbers 1 to 10 using a for loop. Then write an equivalent program that prints the numbers 1 to 10 using a while loop."
   ]
  },
  {
   "cell_type": "code",
   "execution_count": null,
   "id": "e318a8e1",
   "metadata": {},
   "outputs": [],
   "source": [
    "for i in range(1,11):\n",
    "    print(i)"
   ]
  },
  {
   "cell_type": "code",
   "execution_count": 1,
   "id": "2b03210f",
   "metadata": {},
   "outputs": [
    {
     "name": "stdout",
     "output_type": "stream",
     "text": [
      "1\n",
      "2\n",
      "3\n",
      "4\n",
      "5\n",
      "6\n",
      "7\n",
      "8\n",
      "9\n",
      "10\n"
     ]
    }
   ],
   "source": [
    "i=1\n",
    "while i<=10:\n",
    "    print(i)\n",
    "    i+=1\n",
    "    "
   ]
  },
  {
   "cell_type": "code",
   "execution_count": null,
   "id": "42047df4",
   "metadata": {},
   "outputs": [],
   "source": []
  }
 ],
 "metadata": {
  "kernelspec": {
   "display_name": "Python 3 (ipykernel)",
   "language": "python",
   "name": "python3"
  },
  "language_info": {
   "codemirror_mode": {
    "name": "ipython",
    "version": 3
   },
   "file_extension": ".py",
   "mimetype": "text/x-python",
   "name": "python",
   "nbconvert_exporter": "python",
   "pygments_lexer": "ipython3",
   "version": "3.9.12"
  }
 },
 "nbformat": 4,
 "nbformat_minor": 5
}
